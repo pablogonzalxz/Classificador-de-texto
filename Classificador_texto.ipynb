{
  "nbformat": 4,
  "nbformat_minor": 0,
  "metadata": {
    "colab": {
      "provenance": [],
      "toc_visible": true
    },
    "kernelspec": {
      "name": "python3",
      "display_name": "Python 3"
    },
    "language_info": {
      "name": "python"
    }
  },
  "cells": [
    {
      "cell_type": "code",
      "execution_count": null,
      "metadata": {
        "id": "Vt9yl9lHtPax"
      },
      "outputs": [],
      "source": [
        "#Carregando as bibliotecas necessárias\n",
        "%matplotlib inline\n",
        "import numpy as np\n",
        "import matplotlib.pyplot as plt\n",
        "import seaborn as sns;sns.set()\n",
        "from sklearn.datasets import fetch_20newsgroups\n",
        "data = fetch_20newsgroups()\n",
        "data.target_names\n",
        "!pip install googletrans==4.0.0-rc1\n",
        "\n"
      ]
    },
    {
      "cell_type": "code",
      "source": [
        "# Definindo categorias\n",
        "categories = ['alt.atheism', 'comp.graphics',\n",
        "              'comp.os.ms-windows.misc', 'comp.sys.ibm.pc.hardware',\n",
        "              'comp.sys.mac.hardware', 'comp.windows.x',\n",
        "              'misc.forsale', 'rec.autos', 'rec.motorcycles',\n",
        "              'rec.sport.baseball', 'rec.sport.hockey', 'sci.crypt',\n",
        "              'sci.electronics', 'sci.med', 'sci.space', 'soc.religion.christian',\n",
        "              'talk.politics.guns', 'talk.politics.mideast', 'talk.politics.misc',\n",
        "              'talk.religion.misc'\n",
        "              ]\n",
        "\n",
        "# Treinando as categorias\n",
        "train = fetch_20newsgroups(subset='train', categories=categories)\n",
        "\n",
        "# Testando\n",
        "test = fetch_20newsgroups(subset='test', categories=categories)\n",
        "\n",
        "print(test.data[5])\n",
        "\n"
      ],
      "metadata": {
        "colab": {
          "base_uri": "https://localhost:8080/"
        },
        "id": "Dnc0fnbyKdlp",
        "outputId": "29e7f248-e35f-4684-ae62-62f077e73fe2"
      },
      "execution_count": null,
      "outputs": [
        {
          "output_type": "stream",
          "name": "stdout",
          "text": [
            "From: banschbach@vms.ocom.okstate.edu\n",
            "Subject: Re: Candida(yeast) Bloom, Fact or Fiction\n",
            "Organization: OSU College of Osteopathic Medicine\n",
            "Lines: 91\n",
            "Nntp-Posting-Host: vms.ocom.okstate.edu\n",
            "\n",
            "In article <1rp8p1$2d3@usenet.INS.CWRU.Edu>, esd3@po.CWRU.Edu (Elisabeth S. Davidson) writes:\n",
            "> \n",
            "> In a previous article, banschbach@vms.ocom.okstate.edu () says:\n",
            ">>least a few \"enlightened\" physicians practicing in the U.S.  It's really \n",
            ">>too bad that most U.S. medical schools don't cover nutrition because if \n",
            ">>they did, candida would not be viewed as a non-disease by so many in the \n",
            ">>medical profession.\n",
            "> \n",
            "> Case Western Reserve Med School teaches nutrition in its own section as\n",
            "> well as covering it in other sections as they apply (i.e. B12\n",
            "> deficiency in neuro as a cause of neuropathy, B12 deficiency in\n",
            "> hematology as a cause of megaloblastic anemia), yet I sill\n",
            "> hold the viewpoint of mainstream medicine:  candida can cause\n",
            "> mucocutaneous candidiasis, and, in already very sick patients\n",
            "> with damaged immune systems like AIDS and cancer patients,\n",
            "> systemic candida infection.  I think \"The Yeast Connection\" is\n",
            "> a bunch of hooey.  What does this have to do with how well\n",
            "> nutrition is taught, anyway?\n",
            "\n",
            "Elisabeth, let's set the record straight for the nth time, I have not read \n",
            "\"The Yeast Connection\".  So anything that I say is not due to brainwashing \n",
            "by this \"hated\" book.  It's okay I guess to hate the book, by why hate me?\n",
            "Elisabeth, I'm going to quote from Zinsser's Microbiology, 20th Edition.\n",
            "A book that you should be familiar with and not \"hate\". \"Candida species \n",
            "colonize the mucosal surfaces of all humans during birth or shortly \n",
            "thereafter.  The risk of endogenous infection is clearly ever present.  \n",
            "Indeed, candidiasis occurs worldwide and is the most common systemic \n",
            "mycosis.\"  Neutrophils play the main role in preventing a systemic \n",
            "infection(candidiasis) so you would have to have a low neutrophil count or \n",
            "\"sick\" neutrophils to see a systemic infection.  Poor diet and persistent \n",
            "parasitic infestation set many third world residents up for candidiasis.\n",
            "Your assessment of candidiasis in the U.S. is correct and I do not dispute \n",
            "it.\n",
            "\n",
            "What I posted was a discussion of candida blooms, without systemic \n",
            "infection.  These blooms would be responsible for local sites of irritation\n",
            "(GI tract, mouth, vagina and sinus cavity).  Knocking down the bacterial \n",
            "competition for candida was proposed as a possible trigger for candida \n",
            "blooms.  Let me quote from Zinsser's again: \"However, some factors, such as \n",
            "the use of a broad-spectrum antibacterial antibiotic, may predispose to \n",
            "both mucosal and systemic infections\".  I was addressing mucosal infections\n",
            "(I like the term blooms better).  The nutrition course that I teach covers \n",
            "this effect of antibiotic treatment as well as the \"cure\".  I guess that \n",
            "your nutrition course does not, too bad.  \n",
            "\n",
            "\n",
            ">>Here is a brief primer on yeast.  Yeast infections, as they are commonly \n",
            ">>called, are not truely caused by yeasts.  The most common organism responsible\n",
            ">>for this type of infection is Candida albicans or Monilia which is actually a \n",
            ">>yeast-like fungus.  \n",
            "> \n",
            "> Well, maybe I'm getting picky, but I always thought that a yeast\n",
            "> was one form that a fungus could exist in, the other being the\n",
            "> mold form.  Many fungi can occur as either yeasts or molds, \n",
            "> depending on environment.  Candida exibits what is known as\n",
            "> reverse dimorphism - it exists as a mold in the tissues\n",
            "> but exists as a yeast in the environment.  Should we maybe\n",
            "> call it a mold infection?  a fungus infection?  Maybe we\n",
            "> should say it is caused by a mold-like fungus.\n",
            ">  \n",
            ">> \n",
            ">>Martin Banschbach, Ph.D.\n",
            ">>Professor of Biochemistry and Chairman\n",
            ">>Department of Biochemistry and Microbiology\n",
            ">>OSU College of Osteopathic Medicine\n",
            ">>1111 West 17th St.\n",
            ">>Tulsa, Ok. 74107\n",
            ">>\n",
            "> \n",
            "> You're the chairman of Biochem and Micro and you didn't know \n",
            "> that a yeast is a form of a fungus?  (shudder)\n",
            "> Or maybe you did know, and were oversimplifying?\n",
            "\n",
            "My, my Elisabeth, do I detect a little of Steve Dyer in you?  If you \n",
            "noticed my faculty rank, I'm a biochemist, not a microbiologist.\n",
            "Candida is classifed as a fungus(according to Zinsser's).  But, as you point \n",
            "out, it displays dimorphism.  It is capable of producing yeast cells, \n",
            "pseudohyphae and true hyphae.  Elisabeth, you are probably a microbiologist \n",
            "and that makes a lot of sense to you.  To a biochemist, it's a lot of \n",
            "Greek.  So I called it a yeast-like fungus, go ahead and crucify me.\n",
            "\n",
            "You know Elisabeth, I still haven't been able to figure out why such a small \n",
            "little organism like Candida can bring out so much hostility in people in \n",
            "Sci. Med.  And I must admitt that I got sucked into the mud slinging too.\n",
            "I keep hoping that if people will just take the time to think about what \n",
            "I've said, that it will make sense.  I'm not asking anyone here to buy into \n",
            "\"The Yeast Connection\" book because I don't know what's in that book, plain \n",
            "and simple. And to be honest with you, I'm beginning to wish that it was never \n",
            "written.\n",
            "\n",
            "Marty B.\n",
            "\n"
          ]
        }
      ]
    },
    {
      "cell_type": "code",
      "source": [
        "from sklearn.feature_extraction.text import TfidfVectorizer\n",
        "from sklearn.naive_bayes import MultinomialNB\n",
        "from sklearn.pipeline import make_pipeline\n",
        "from googletrans import Translator\n",
        "\n",
        "#Criando modelo baseado no Muiltonimal Naive Bayes\n",
        "model = make_pipeline(TfidfVectorizer(), MultinomialNB())\n",
        "\n",
        "#Treinando o modelo com os dados\n",
        "model.fit(train.data, train.target)\n",
        "\n",
        "#Criando as labels para os dados do teste\n",
        "labels = model.predict(test.data)\n"
      ],
      "metadata": {
        "id": "wGfHbqiOPI3O"
      },
      "execution_count": null,
      "outputs": []
    },
    {
      "cell_type": "code",
      "source": [
        "#Criando confusion matrix e heat map\n",
        "from sklearn.metrics import confusion_matrix\n",
        "mat = confusion_matrix(test.target, labels)\n",
        "sns.heatmap(mat.T, square = True, annot=True, fmt='d',\n",
        "            cbar=False, xticklabels=train.target_names,yticklabels=train.target_names)\n",
        "\n",
        "#Plotting\n",
        "plt.xlabel('true label')\n",
        "plt.ylabel('predicted label');"
      ],
      "metadata": {
        "id": "ekQC8zK5RFlf"
      },
      "execution_count": null,
      "outputs": []
    },
    {
      "cell_type": "code",
      "source": [
        "#Traduzindo qualquer texto que não esteja em inglês e fazendo a previsão\n",
        "translator = Translator()\n",
        "\n",
        "def translate_to_english(text):\n",
        "    translator = Translator()\n",
        "    translated_text = translator.translate(text, dest='en').text\n",
        "    return translated_text\n",
        "\n",
        "def predict_category(s, train=train, model=model):\n",
        "    # Traduz o texto para inglês, se não estiver em inglês\n",
        "    if translator.detect(s).lang != 'en':\n",
        "        s = translate_to_english(s)\n",
        "\n",
        "    pred = model.predict([s])\n",
        "    return train.target_names[pred[0]]"
      ],
      "metadata": {
        "id": "s6PFN36CZTPb"
      },
      "execution_count": null,
      "outputs": []
    },
    {
      "cell_type": "markdown",
      "source": [
        "Classificador de texto:"
      ],
      "metadata": {
        "id": "YFx8TaVYunHt"
      }
    },
    {
      "cell_type": "code",
      "source": [
        "category = str(input('Digite o texto para ver a classificação: '))\n",
        "predict_category(category)\n"
      ],
      "metadata": {
        "colab": {
          "base_uri": "https://localhost:8080/",
          "height": 53
        },
        "id": "TVtWH6Bks8LH",
        "outputId": "bf6f2358-9886-4c8b-8685-c8cfe26e90e4"
      },
      "execution_count": null,
      "outputs": [
        {
          "name": "stdout",
          "output_type": "stream",
          "text": [
            "Digite o texto para ver a classificação: Jesus\n"
          ]
        },
        {
          "output_type": "execute_result",
          "data": {
            "text/plain": [
              "'soc.religion.christian'"
            ],
            "application/vnd.google.colaboratory.intrinsic+json": {
              "type": "string"
            }
          },
          "metadata": {},
          "execution_count": 47
        }
      ]
    }
  ]
}